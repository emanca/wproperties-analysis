{
 "cells": [
  {
   "cell_type": "code",
   "execution_count": 1,
   "id": "a09a7e04",
   "metadata": {},
   "outputs": [
    {
     "name": "stdout",
     "output_type": "stream",
     "text": [
      "Welcome to JupyROOT 6.28/02\n"
     ]
    }
   ],
   "source": [
    "import ROOT\n",
    "import narf\n",
    "import pandas as pd\n",
    "import h5py \n",
    "import hist\n",
    "import hdf5plugin\n",
    "import math\n",
    "import boost_histogram as bh\n",
    "import numpy as np\n",
    "import matplotlib.pyplot as plt\n",
    "import re\n",
    "from collections import OrderedDict\n",
    "import mplhep as hep\n",
    "from IPython.display import Image\n",
    "import wremnants\n",
    "import hist"
   ]
  },
  {
   "cell_type": "code",
   "execution_count": 20,
   "id": "b0b47ac9",
   "metadata": {},
   "outputs": [],
   "source": [
    "from utilities import boostHistHelpers as hh,common,output_tools,logging"
   ]
  },
  {
   "cell_type": "markdown",
   "id": "5a2856ce",
   "metadata": {},
   "source": [
    "# 5/5/23 rerunning bootstrap with proper sumw & sumw2 "
   ]
  },
  {
   "cell_type": "code",
   "execution_count": 2,
   "id": "0a0cea89",
   "metadata": {},
   "outputs": [
    {
     "name": "stdout",
     "output_type": "stream",
     "text": [
      "{'signal_nominal': <narf.ioutils.H5PickleProxy object at 0x7f97233326b0>, 'signal_mass': <narf.ioutils.H5PickleProxy object at 0x7f953bc421a0>}\n"
     ]
    }
   ],
   "source": [
    "f2 = h5py.File(\"templatesTest3.hdf5\",\"r\")\n",
    "results2 = narf.ioutils.pickle_load_h5py(f2[\"results\"])\n",
    "\n",
    "#constants\n",
    "process = 'ZmumuPostVFP'\n",
    "#V ='Z'\n",
    "lumi    = 16.8  #results['dataPostVFP'][\"lumi\"]\n",
    "xsec    = results[process][\"dataset\"][\"xsec\"]\n",
    "weights = results[process][\"weight_sum\"]\n",
    "C       = lumi*1000*xsec/weights\n",
    "\n",
    "\n",
    "Hdata_obs = C*results2['ZmumuPostVFP']['output']['signal_nominal'].get()[sum,sum,:,:,:,sum]\n",
    "\n",
    "sumw  = Hdata_obs[...,1].values().ravel()\n",
    "sumw2 = Hdata_obs[...,1].variances().ravel() #single charge"
   ]
  },
  {
   "cell_type": "markdown",
   "id": "f83e764c",
   "metadata": {},
   "source": [
    "# 5/3/23, 5/4/23 creating mirroring function for boost histogram.\n",
    "\n",
    "Some systematics do not contain down/up variations. These must be created by adding an axis to the boost histogram. The down variation is defined as nominal/variation and the up variation as variation/nominal"
   ]
  },
  {
   "cell_type": "markdown",
   "id": "c8bd9e1e",
   "metadata": {},
   "source": [
    "def mirrorHisto(nom,var):\n",
    "    '''\n",
    "    Parameters\n",
    "    ==========\n",
    "    nom: nominal boost histogram\n",
    "    var: boost histogram corresponding to systematic variation\n",
    "    Returns\n",
    "    =======\n",
    "    Mirrored Histogram: Boost histogram with new two dimensional axis labeled downUpVar. Index '0' corresponds to \n",
    "    'down' variation defined as nom/var and index '1' corresponds to 'up' variation defined as var/nom. \n",
    "    0/0 division is taken to be 1.\n",
    "    '''\n",
    "    downup_axis = common.down_up_axis\n",
    "    down = hh.divideHists(nom,var)\n",
    "    up = hh.divideHists(var,nom)\n",
    "    data = np.stack([down,up],axis=-1)\n",
    "    new_histo = hist.Hist(*nom.axes,downup_axis, name=var.name, data=data, storage = hist.storage.Weight())\n",
    "    return new_histo\n",
    "\n",
    "\n",
    "#Using random histograms to test function\n",
    "f = h5py.File(\"templatesTest3.hdf5\",\"r\")\n",
    "results = narf.ioutils.pickle_load_h5py(f[\"results\"])\n",
    "\n",
    "H1 = results['ZmumuPostVFP']['output']['signal_nominal'].get()[...,-1]\n",
    "H2 = results['ZmumuPostVFP']['output']['signal_nominal'].get()[...,0]\n",
    "\n",
    "\n",
    "mirrorHisto(H1,H2)"
   ]
  },
  {
   "cell_type": "markdown",
   "id": "9303eacd",
   "metadata": {},
   "source": [
    "# 5/2/23 adding a poisson distribution to each individual bin with mu set to the number of events in that bin"
   ]
  },
  {
   "cell_type": "markdown",
   "id": "be907b84",
   "metadata": {},
   "source": [
    "#File imports\n",
    "f2 = h5py.File(\"templatesTest3.hdf5\",\"r\")\n",
    "results = narf.ioutils.pickle_load_h5py(f2[\"results\"])\n",
    "\n",
    "#constants\n",
    "process = 'ZmumuPostVFP'\n",
    "V ='Z'\n",
    "lumi    = 16.8  #results['dataPostVFP'][\"lumi\"]\n",
    "xsec    = results[process][\"dataset\"][\"xsec\"]\n",
    "weights = results[process][\"weight_sum\"]\n",
    "C       = lumi*1000*xsec/weights\n",
    "\n",
    "Hdata_obs = C*results['ZmumuPostVFP']['output']['signal_nominal'].get()[sum,sum,:,:,:,sum]\n",
    "data_obs  = Hdata_obs.to_numpy()[0][...,1].ravel()\n",
    "\n",
    "np.random.seed(3)\n",
    "pd.Series(data_obs).apply(lambda x: x+np.random.poisson(lam=x))"
   ]
  },
  {
   "cell_type": "markdown",
   "id": "5243e750",
   "metadata": {},
   "source": [
    "# 5/1/23 working on combining mass pull for multiple fits using bootstrap method. "
   ]
  },
  {
   "cell_type": "code",
   "execution_count": 1,
   "id": "73609aab",
   "metadata": {},
   "outputs": [
    {
     "name": "stdout",
     "output_type": "stream",
     "text": [
      "Welcome to JupyROOT 6.28/02\n",
      " FCN=47.2822 FROM MIGRAD    STATUS=CONVERGED      68 CALLS          69 TOTAL\n",
      "                     EDM=1.53938e-09    STRATEGY= 1      ERROR MATRIX ACCURATE \n",
      "  EXT PARAMETER                                   STEP         FIRST   \n",
      "  NO.   NAME      VALUE            ERROR          SIZE      DERIVATIVE \n",
      "   1  Constant     2.61805e+00   3.26376e-01   1.26374e-03   6.33290e-05\n",
      "   2  Mean        -2.02080e-01   1.21482e-01   5.79539e-04   2.39168e-04\n",
      "   3  Sigma        1.19583e+00   8.83296e-02   9.54558e-05   1.33131e-03\n",
      "                               ERR DEF= 0.5\n"
     ]
    },
    {
     "name": "stderr",
     "output_type": "stream",
     "text": [
      "Info in <TCanvas::Print>: png file mass_pull_bootstrap.png has been created\n"
     ]
    },
    {
     "data": {
      "image/png": "[encoded data removed]",
      "text/plain": [
       "<IPython.core.display.Image object>"
      ]
     },
     "execution_count": 1,
     "metadata": {},
     "output_type": "execute_result"
    }
   ],
   "source": [
    "import ROOT\n",
    "from IPython.display import Image\n",
    "\n",
    "hists = {}\n",
    "canvs = {}\n",
    "hpull = ROOT.TH1D(\"mass_pull\",\"mass_pull\", 100, -4.,4.)\n",
    "canv = ROOT.TCanvas('mass','mass')\n",
    "ROOT.gStyle.SetOptStat(111100)\n",
    "\n",
    "\n",
    "hists['mass']=hpull\n",
    "canvs['mass']=canv\n",
    "for ifile in range(100):\n",
    "    fIntoy = ROOT.TFile.Open('../Fit/FitRes/fit_Wlike_iteration_{}_bootstrap.root'.format(ifile))\n",
    "    fitresultstoy = fIntoy.Get('fitresults')\n",
    "    for ev in fitresultstoy:\n",
    "        for key , hist in hists.items():\n",
    "            par = getattr(ev,key)\n",
    "            par_err = getattr(ev,key+'_err')\n",
    "            hist.Fill(par/par_err)\n",
    "ROOT.gStyle.SetOptFit(1)\n",
    "for i,c in canvs.items():\n",
    "    c.cd()\n",
    "    hists[i].Fit('gaus','L')\n",
    "    hists[i].Draw()\n",
    "    c.SaveAs('{}_bootstrap.png'.format(hists[i].GetName()))\n",
    "    \n",
    "Image(\"mass_pull_bootstrap.png\")"
   ]
  },
  {
   "cell_type": "code",
   "execution_count": 1,
   "id": "5e905479",
   "metadata": {},
   "outputs": [
    {
     "name": "stdout",
     "output_type": "stream",
     "text": [
      "Welcome to JupyROOT 6.28/02\n",
      " FCN=30.8872 FROM MIGRAD    STATUS=CONVERGED      69 CALLS          70 TOTAL\n",
      "                     EDM=3.15997e-10    STRATEGY= 1      ERROR MATRIX ACCURATE \n",
      "  EXT PARAMETER                                   STEP         FIRST   \n",
      "  NO.   NAME      VALUE            ERROR          SIZE      DERIVATIVE \n",
      "   1  Constant     4.93682e+00   6.04649e-01   1.90951e-03  -8.87646e-06\n",
      "   2  Mean        -5.90000e-02   8.08095e-02   3.12633e-04   1.42048e-10\n",
      "   3  Sigma        8.08095e-01   5.71370e-02   7.44560e-05  -8.62364e-04\n",
      "                               ERR DEF= 0.5\n"
     ]
    },
    {
     "name": "stderr",
     "output_type": "stream",
     "text": [
      "Info in <TCanvas::Print>: png file mass_pull_bootstrapBBB.png has been created\n"
     ]
    },
    {
     "data": {
      "image/png": "[encoded data removed]",
      "text/plain": [
       "<IPython.core.display.Image object>"
      ]
     },
     "execution_count": 1,
     "metadata": {},
     "output_type": "execute_result"
    }
   ],
   "source": [
    "import ROOT\n",
    "from IPython.display import Image\n",
    "\n",
    "hists = {}\n",
    "canvs = {}\n",
    "hpull = ROOT.TH1D(\"mass_pull\",\"mass_pull\", 100, -5.,5.)\n",
    "canv = ROOT.TCanvas('mass','mass')\n",
    "ROOT.gStyle.SetOptStat(111100)\n",
    "\n",
    "\n",
    "hists['mass']=hpull\n",
    "canvs['mass']=canv\n",
    "for ifile in range(100):\n",
    "    fIntoy = ROOT.TFile.Open('../Fit/FitRes/fit_Wlike_iteration_{}_bootstrapBBB.root'.format(ifile))\n",
    "    fitresultstoy = fIntoy.Get('fitresults')\n",
    "    for ev in fitresultstoy:\n",
    "        for key , hist in hists.items():\n",
    "            par = getattr(ev,key)\n",
    "            par_err = getattr(ev,key+'_err')\n",
    "            hist.Fill(par/par_err)\n",
    "ROOT.gStyle.SetOptFit(1)\n",
    "for i,c in canvs.items():\n",
    "    c.cd()\n",
    "    hists[i].Fit('gaus','L')\n",
    "    hists[i].Draw()\n",
    "    c.SaveAs('{}_bootstrapBBB.png'.format(hists[i].GetName()))\n",
    "    \n",
    "Image(\"mass_pull_bootstrapBBB.png\")"
   ]
  },
  {
   "cell_type": "code",
   "execution_count": 1,
   "id": "60fc7380",
   "metadata": {},
   "outputs": [
    {
     "name": "stdout",
     "output_type": "stream",
     "text": [
      "Welcome to JupyROOT 6.28/02\n",
      " FCN=22.5797 FROM MIGRAD    STATUS=CONVERGED      59 CALLS          60 TOTAL\n",
      "                     EDM=7.87923e-07    STRATEGY= 1      ERROR MATRIX ACCURATE \n",
      "  EXT PARAMETER                                   STEP         FIRST   \n",
      "  NO.   NAME      VALUE            ERROR          SIZE      DERIVATIVE \n",
      "   1  Constant     5.00975e+00   6.13560e-01   1.67086e-03  -1.99257e-04\n",
      "   2  Mean        -3.30000e-02   7.96324e-02   2.63442e-04   4.07943e-09\n",
      "   3  Sigma        7.96324e-01   5.62999e-02   6.35774e-05  -4.04194e-02\n",
      "                               ERR DEF= 0.5\n"
     ]
    },
    {
     "name": "stderr",
     "output_type": "stream",
     "text": [
      "Info in <TCanvas::Print>: png file mass_pull.png has been created\n"
     ]
    },
    {
     "data": {
      "image/png": "[encoded data removed]",
      "text/plain": [
       "<IPython.core.display.Image object>"
      ]
     },
     "execution_count": 1,
     "metadata": {},
     "output_type": "execute_result"
    }
   ],
   "source": [
    "import ROOT\n",
    "from IPython.display import Image\n",
    "\n",
    "hists = {}\n",
    "canvs = {}\n",
    "hpull = ROOT.TH1D(\"mass_pull\",\"mass_pull\", 100, -5.,5.)\n",
    "canv = ROOT.TCanvas('mass','mass')\n",
    "ROOT.gStyle.SetOptStat(111100)\n",
    "\n",
    "\n",
    "hists['mass']=hpull\n",
    "canvs['mass']=canv\n",
    "for ifile in range(100):\n",
    "    fIntoy = ROOT.TFile.Open('../Fit/FitRes/fit_Wlike_iteration_{}.root'.format(ifile))\n",
    "    fitresultstoy = fIntoy.Get('fitresults')\n",
    "    for ev in fitresultstoy:\n",
    "        for key , hist in hists.items():\n",
    "            par = getattr(ev,key)\n",
    "            par_err = getattr(ev,key+'_err')\n",
    "            hist.Fill(par/par_err)\n",
    "ROOT.gStyle.SetOptFit(1)\n",
    "for i,c in canvs.items():\n",
    "    c.cd()\n",
    "    hists[i].Fit('gaus','L')\n",
    "    hists[i].Draw()\n",
    "    c.SaveAs('{}.png'.format(hists[i].GetName()))\n",
    "    \n",
    "Image(\"mass_pull.png\")"
   ]
  },
  {
   "cell_type": "code",
   "execution_count": null,
   "id": "3b76b4ac",
   "metadata": {},
   "outputs": [],
   "source": []
  }
 ],
 "metadata": {
  "kernelspec": {
   "display_name": "Python 3 (ipykernel)",
   "language": "python",
   "name": "python3"
  },
  "language_info": {
   "codemirror_mode": {
    "name": "ipython",
    "version": 3
   },
   "file_extension": ".py",
   "mimetype": "text/x-python",
   "name": "python",
   "nbconvert_exporter": "python",
   "pygments_lexer": "ipython3",
   "version": "3.10.10"
  }
 },
 "nbformat": 4,
 "nbformat_minor": 5
}
