{
 "cells": [
  {
   "cell_type": "code",
   "execution_count": null,
   "id": "f3d8f222",
   "metadata": {},
   "outputs": [
    {
     "name": "stdout",
     "output_type": "stream",
     "text": [
      "Welcome to JupyROOT 6.28/02\n"
     ]
    }
   ],
   "source": [
    "import ROOT\n",
    "import narf\n",
    "import pandas as pd\n",
    "import h5py \n",
    "import hist\n",
    "import hdf5plugin\n",
    "import boost_histogram as bh\n",
    "import numpy as np\n",
    "import matplotlib.pyplot as plt"
   ]
  },
  {
   "cell_type": "code",
   "execution_count": null,
   "id": "216acbae",
   "metadata": {},
   "outputs": [],
   "source": []
  },
  {
   "cell_type": "code",
   "execution_count": null,
   "id": "2a3a6827",
   "metadata": {
    "scrolled": true
   },
   "outputs": [],
   "source": [
    "'''loading the file and extracting as numpy array'''\n",
    "f = h5py.File(\"templatesTest2.hdf5\",\"r\")\n",
    "results = narf.ioutils.pickle_load_h5py(f[\"results\"])\n",
    "H = results['ZmumuPostVFP']['output']['signalTemplates_nominal'].get() #boost histogram values\n",
    "#H2 = resultsresults['ZmumuPostVFP']['output']['signalTemplates_mass'].get()\n",
    "t = h5py.File('templatesFit.hdf5','r')\n",
    "#print(results['ZmumuPostVFP']['output'])\n",
    "\n",
    "\n",
    "'''Unpacking the data'''\n",
    "#first unroll the tensor in eta and pt shape: (6,8,48,60,2,6) -> (6,8,2880,2,6)\n",
    "unrolled = H.to_numpy()[0].reshape((6,8,-1,2,6)) \n",
    "#next, swap axes such that unrolled eta/pt in in last position (6,8,2880,2,6) -> (6,8,2,6,2880)\n",
    "#lastly, reshape into 2 dimensional array which will be passed into dataframe (6,8,2,6,2880) -> (576,2880)\n",
    "#one row corresponds to one unrolled pt/eta distribution (template)\n",
    "a = np.swapaxes(unrolled , 2 , -1).reshape(-1,2880) \n",
    "\n",
    "'''Building the pandas dataframe'''\n",
    "yBinsC     = H.axes['Zrap'].centers\n",
    "qtBinsC    = H.axes['Zpt'].centers\n",
    "charges    = H.axes['charge'].centers\n",
    "helicities = list(H.axes['helicities'])\n",
    "#helicities = ['L','I','T','A','P','UL']\n",
    "#multi index object\n",
    "iterables = [yBinsC, qtBinsC,helicities ,charges] #2charges * 6helicities *6y bins * 8qt bins =  576 rows\n",
    "multi = pd.MultiIndex.from_product(iterables , names = ['rapidity', 'qt' , 'hel','charge'])\n",
    "\n",
    "#building dataframe\n",
    "df = pd.DataFrame(a , index = multi)\n",
    "\n",
    "\n",
    "'''Adding cross section information to our dataframe by merging'''\n",
    "qtBins = np.array([0., 3., 6., 9.62315204,12.36966732,16.01207711,21.35210602,29.50001253,60.,200.]) #these have to be like this for now\n",
    "yBins = np.array([0., 0.4, 0.8, 1.2, 1.6, 2.0, 2.4, 3.0, 10.0])\n",
    "\n",
    "threshold_y = np.digitize(2.4,yBins)-1\n",
    "threshold_qt = np.digitize(60.,qtBins)-1\n",
    "\n",
    "T = t['helicity'][:threshold_y,:threshold_qt,:] #cross sections\n",
    "processes = [yBinsC , qtBinsC , helicities]\n",
    "multi2 = pd.MultiIndex.from_product(processes , names = ['rapidity', 'qt' , 'hel'])\n",
    "charges =  [-1.0]*288 + [1.0]*288\n",
    "s = pd.Series(T.ravel(), index = multi2 , name='xsec')\n",
    "xsec_df = pd.concat([s,s] ,axis=0).reset_index()\n",
    "xsec_df['charge'] = charges\n",
    "\n",
    "\n",
    "\n",
    "df = df.merge(xsec_df ,left_on=['rapidity','qt','hel','charge'], right_on=['rapidity','qt','hel','charge'])\n",
    "df['data'] = df.loc[:,0:2879].apply(np.hstack , axis=1)\n",
    "df = df.loc[:,['rapidity' , 'qt','hel','charge','data','xsec']]\n",
    "\n",
    "\n",
    "#setting process as index\n",
    "df.set_index('helXsec_'+df['hel']+'_y_'+df['rapidity'].apply(lambda x: round(x,1)).apply(str)+'_qt_'+df['qt'].apply(lambda x: round(x,1)).apply(str),inplace=True)\n",
    "df['helgroups']='y_'+df['rapidity'].apply(lambda x: round(x,1)).apply(str)+'_qt_'+df['qt'].apply(lambda x: round(x,1)).apply(str)\n",
    "df.drop(columns=['rapidity','qt','hel'],inplace=True)"
   ]
  },
  {
   "cell_type": "code",
   "execution_count": 14,
   "id": "6ac65470",
   "metadata": {},
   "outputs": [
    {
     "data": {
      "text/plain": [
       "Index(['rapidity', 'qt', 'hel', 'charge', 'data', 'xsec'], dtype='object')"
      ]
     },
     "execution_count": 14,
     "metadata": {},
     "output_type": "execute_result"
    }
   ],
   "source": [
    "df.columns"
   ]
  },
  {
   "cell_type": "code",
   "execution_count": 13,
   "id": "6b0a220c",
   "metadata": {},
   "outputs": [
    {
     "data": {
      "text/html": [
       "<div>\n",
       "<style scoped>\n",
       "    .dataframe tbody tr th:only-of-type {\n",
       "        vertical-align: middle;\n",
       "    }\n",
       "\n",
       "    .dataframe tbody tr th {\n",
       "        vertical-align: top;\n",
       "    }\n",
       "\n",
       "    .dataframe thead th {\n",
       "        text-align: right;\n",
       "    }\n",
       "</style>\n",
       "<table border=\"1\" class=\"dataframe\">\n",
       "  <thead>\n",
       "    <tr style=\"text-align: right;\">\n",
       "      <th></th>\n",
       "      <th>rapidity</th>\n",
       "      <th>qt</th>\n",
       "      <th>hel</th>\n",
       "      <th>charge</th>\n",
       "      <th>data</th>\n",
       "      <th>xsec</th>\n",
       "    </tr>\n",
       "  </thead>\n",
       "  <tbody>\n",
       "    <tr>\n",
       "      <th>helXsec_L_y_0.2_qt_1.5</th>\n",
       "      <td>0.2</td>\n",
       "      <td>1.5</td>\n",
       "      <td>L</td>\n",
       "      <td>-1.0</td>\n",
       "      <td>[0.0, 0.0, 0.0, 0.0, 0.0, 0.0, 0.0, 0.0, 0.0, ...</td>\n",
       "      <td>1979.366479</td>\n",
       "    </tr>\n",
       "    <tr>\n",
       "      <th>helXsec_L_y_0.2_qt_1.5</th>\n",
       "      <td>0.2</td>\n",
       "      <td>1.5</td>\n",
       "      <td>L</td>\n",
       "      <td>1.0</td>\n",
       "      <td>[0.0, 0.0, 0.0, 0.0, 0.0, 0.0, 0.0, 0.0, 0.0, ...</td>\n",
       "      <td>1979.366479</td>\n",
       "    </tr>\n",
       "    <tr>\n",
       "      <th>helXsec_I_y_0.2_qt_1.5</th>\n",
       "      <td>0.2</td>\n",
       "      <td>1.5</td>\n",
       "      <td>I</td>\n",
       "      <td>-1.0</td>\n",
       "      <td>[0.0, 0.0, 0.0, 0.0, 0.0, 0.0, 0.0, 0.0, 0.0, ...</td>\n",
       "      <td>223.724364</td>\n",
       "    </tr>\n",
       "    <tr>\n",
       "      <th>helXsec_I_y_0.2_qt_1.5</th>\n",
       "      <td>0.2</td>\n",
       "      <td>1.5</td>\n",
       "      <td>I</td>\n",
       "      <td>1.0</td>\n",
       "      <td>[0.0, 0.0, 0.0, 0.0, 0.0, 0.0, 0.0, 0.0, 0.0, ...</td>\n",
       "      <td>223.724364</td>\n",
       "    </tr>\n",
       "    <tr>\n",
       "      <th>helXsec_T_y_0.2_qt_1.5</th>\n",
       "      <td>0.2</td>\n",
       "      <td>1.5</td>\n",
       "      <td>T</td>\n",
       "      <td>-1.0</td>\n",
       "      <td>[0.0, 0.0, 0.0, 0.0, 0.0, 0.0, 0.0, 0.0, 0.0, ...</td>\n",
       "      <td>-349.398681</td>\n",
       "    </tr>\n",
       "  </tbody>\n",
       "</table>\n",
       "</div>"
      ],
      "text/plain": [
       "                        rapidity   qt hel  charge  \\\n",
       "helXsec_L_y_0.2_qt_1.5       0.2  1.5   L    -1.0   \n",
       "helXsec_L_y_0.2_qt_1.5       0.2  1.5   L     1.0   \n",
       "helXsec_I_y_0.2_qt_1.5       0.2  1.5   I    -1.0   \n",
       "helXsec_I_y_0.2_qt_1.5       0.2  1.5   I     1.0   \n",
       "helXsec_T_y_0.2_qt_1.5       0.2  1.5   T    -1.0   \n",
       "\n",
       "                                                                     data  \\\n",
       "helXsec_L_y_0.2_qt_1.5  [0.0, 0.0, 0.0, 0.0, 0.0, 0.0, 0.0, 0.0, 0.0, ...   \n",
       "helXsec_L_y_0.2_qt_1.5  [0.0, 0.0, 0.0, 0.0, 0.0, 0.0, 0.0, 0.0, 0.0, ...   \n",
       "helXsec_I_y_0.2_qt_1.5  [0.0, 0.0, 0.0, 0.0, 0.0, 0.0, 0.0, 0.0, 0.0, ...   \n",
       "helXsec_I_y_0.2_qt_1.5  [0.0, 0.0, 0.0, 0.0, 0.0, 0.0, 0.0, 0.0, 0.0, ...   \n",
       "helXsec_T_y_0.2_qt_1.5  [0.0, 0.0, 0.0, 0.0, 0.0, 0.0, 0.0, 0.0, 0.0, ...   \n",
       "\n",
       "                               xsec  \n",
       "helXsec_L_y_0.2_qt_1.5  1979.366479  \n",
       "helXsec_L_y_0.2_qt_1.5  1979.366479  \n",
       "helXsec_I_y_0.2_qt_1.5   223.724364  \n",
       "helXsec_I_y_0.2_qt_1.5   223.724364  \n",
       "helXsec_T_y_0.2_qt_1.5  -349.398681  "
      ]
     },
     "execution_count": 13,
     "metadata": {},
     "output_type": "execute_result"
    }
   ],
   "source": [
    "df.columns = pd.MultiIndex.from_tuples(df.columns, names=['Caps','Lower'])\n",
    "df.head()"
   ]
  },
  {
   "cell_type": "code",
   "execution_count": 14,
   "id": "343f69ed",
   "metadata": {},
   "outputs": [
    {
     "data": {
      "text/plain": [
       "Hist(\n",
       "  Variable([0, 0.4, 0.8, 1.2, 1.6, 2, 2.4], name='Zrap'),\n",
       "  Variable([0, 3, 6, 9.62315, 12.3697, 16.0121, 21.3521, 29.5, 60], name='Zpt'),\n",
       "  Regular(48, -2.4, 2.4, name='mueta'),\n",
       "  Regular(60, 25, 55, name='mupt'),\n",
       "  Regular(2, -2, 2, underflow=False, overflow=False, name='charge'),\n",
       "  StrCategory(['L', 'I', 'T', 'A', 'P', 'UL'], name='helicities'),\n",
       "  StrCategory(['massShift100MeVDown', 'massShift90MeVDown', 'massShift80MeVDown', 'massShift70MeVDown', 'massShift60MeVDown', 'massShift50MeVDown', 'massShift40MeVDown', 'massShift30MeVDown', 'massShift20MeVDown', 'massShift10MeVDown', 'massShift0MeV', 'massShift10MeVUp', 'massShift20MeVUp', 'massShift30MeVUp', 'massShift40MeVUp', 'massShift50MeVUp', 'massShift60MeVUp', 'massShift70MeVUp', 'massShift80MeVUp', 'massShift90MeVUp', 'massShift100MeVUp', 'massShift2p1MeVDown', 'massShift2p1MeVUp'], name='massShift'),\n",
       "  storage=Weight()) # Sum: WeightedSum(value=953776, variance=1.11049e+06)"
      ]
     },
     "execution_count": 14,
     "metadata": {},
     "output_type": "execute_result"
    }
   ],
   "source": [
    "results['ZtautauPostVFP']['output']['signalTemplates_mass'].get()"
   ]
  },
  {
   "cell_type": "code",
   "execution_count": null,
   "id": "ac106560",
   "metadata": {},
   "outputs": [],
   "source": []
  },
  {
   "cell_type": "code",
   "execution_count": null,
   "id": "1582dc8e",
   "metadata": {},
   "outputs": [],
   "source": []
  },
  {
   "cell_type": "code",
   "execution_count": null,
   "id": "f6f11dbb",
   "metadata": {},
   "outputs": [],
   "source": []
  },
  {
   "cell_type": "code",
   "execution_count": 3,
   "id": "36bc0a06",
   "metadata": {},
   "outputs": [
    {
     "name": "stdout",
     "output_type": "stream",
     "text": [
      "<class 'pandas.core.frame.DataFrame'>\n",
      "Index: 576 entries, helXsec_L_y_0.2_qt_1.5 to helXsec_UL_y_2.2_qt_44.8\n",
      "Columns: 2885 entries, rapidity to xsec\n",
      "dtypes: float64(2884), object(1)\n",
      "memory usage: 12.7+ MB\n"
     ]
    }
   ],
   "source": [
    "df.info()"
   ]
  },
  {
   "cell_type": "code",
   "execution_count": 29,
   "id": "46bbf8ab",
   "metadata": {},
   "outputs": [
    {
     "data": {
      "text/plain": [
       "Index     21160\n",
       "charge     4608\n",
       "0          4608\n",
       "1          4608\n",
       "2          4608\n",
       "          ...  \n",
       "2876       4608\n",
       "2877       4608\n",
       "2878       4608\n",
       "2879       4608\n",
       "xsec       4608\n",
       "Length: 2883, dtype: int64"
      ]
     },
     "execution_count": 29,
     "metadata": {},
     "output_type": "execute_result"
    }
   ],
   "source": [
    "df.memory_usage()"
   ]
  },
  {
   "cell_type": "code",
   "execution_count": null,
   "id": "326d4452",
   "metadata": {},
   "outputs": [],
   "source": []
  }
 ],
 "metadata": {
  "kernelspec": {
   "display_name": "Python 3 (ipykernel)",
   "language": "python",
   "name": "python3"
  },
  "language_info": {
   "codemirror_mode": {
    "name": "ipython",
    "version": 3
   },
   "file_extension": ".py",
   "mimetype": "text/x-python",
   "name": "python",
   "nbconvert_exporter": "python",
   "pygments_lexer": "ipython3",
   "version": "3.10.10"
  }
 },
 "nbformat": 4,
 "nbformat_minor": 5
}
